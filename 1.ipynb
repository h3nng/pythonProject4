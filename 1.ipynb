{
 "cells": [
  {
   "cell_type": "code",
   "execution_count": null,
   "metadata": {},
   "outputs": [],
   "source": []
  },
  {
   "cell_type": "code",
   "execution_count": null,
   "metadata": {},
   "outputs": [],
   "source": [
    "import pandas as pd\n",
    "import numpy as np\n",
    "import matplotlib.pyplot as plt"
   ]
  },
  {
   "cell_type": "code",
   "execution_count": null,
   "metadata": {},
   "outputs": [],
   "source": [
    "# 数据预处理\n",
    "# 导入数据并显示前6行数据来检查数据是否正确\n",
    "from matplotlib import category\n",
    "\n",
    "\n",
    "df = pd.read_csv('死亡人数.csv',encoding='gbk')\n",
    "bf = pd.read_csv('出生人数.csv',encoding='gbk')\n",
    "pf = pd.read_csv('population-and-demography.csv',encoding='gbk')\n",
    "pd.set_option('display.max_columns',100000)\n",
    "display(df.head(6))\n",
    "display(bf.head(6))\n",
    "display(pf.head(6))"
   ]
  },
  {
   "cell_type": "code",
   "execution_count": null,
   "metadata": {},
   "outputs": [],
   "source": [
    "# 合并数据集\n",
    "df = df.set_index(['Country name', 'Year'], drop=True)\n",
    "bf = bf.set_index(['Country name', 'Year'], drop=True)\n",
    "pf = pf.set_index(['Country name', 'Year'], drop =True)\n",
    "bd = pd.merge(df,bf,on=['Country name','Year'])\n",
    "bd = pd.merge(bd,pf,on=['Country name','Year'])\n",
    "display(bd)"
   ]
  },
  {
   "cell_type": "code",
   "execution_count": null,
   "metadata": {},
   "outputs": [],
   "source": [
    "# 数据清洗\n",
    "def data_fill(data):\n",
    "    data.isnull().sum() # 查看缺失值\n",
    "    for i in data.select_dtypes(include=['number']).columns:\n",
    "        x = data[i].mean()# 计算每列的均值\n",
    "        data.fillna({i:x}, inplace=True) # 用均值填充缺失值\n",
    "    data.isnull().sum() # 查看缺失值是否全为0\n",
    "    return data\n",
    "bd = data_fill(bd)\n"
   ]
  },
  {
   "cell_type": "code",
   "execution_count": null,
   "metadata": {},
   "outputs": [],
   "source": [
    "# 清洗字符串格式\n",
    "import dis\n",
    "import re\n",
    "\n",
    "from numpy import disp\n",
    "for i in bd.columns:\n",
    "    if bd[i].dtype == 'object':\n",
    "        bd[i] = bd[i].apply(lambda x: re.sub(r'[^\\w\\s]','',x))\n",
    "\n",
    "# 显示数据\n",
    "pd.set_option('display.max_columns',100)\n",
    "display(bd.head())"
   ]
  },
  {
   "cell_type": "code",
   "execution_count": null,
   "metadata": {},
   "outputs": [],
   "source": [
    "# 数据分析\n",
    "# 总览分析\n",
    "# 计算全球总出生人数和总死亡人数\n",
    "total_birth = bd.loc[('World'), 'Births'].astype('float64').sum() # type: ignore\n",
    "display(total_birth)\n",
    "total_death = bd.loc[('World'), 'Deaths'].astype('float64').sum() # type: ignore\n",
    "display(total_death)\n",
    "# 计算各国的总出生人数和总死亡人数\n",
    "index = bd.index.levels[0] # type: ignore  levels在新版本pandas中被移除\n",
    "display(index)\n",
    "a = []\n",
    "b = []\n",
    "for i in index:\n",
    "    values = bd.loc[i, 'Births'].astype('float64').sum() # type: ignore\n",
    "    values2 = bd.loc[i, 'Deaths'].astype('float64').sum() # type: ignore\n",
    "    b.append(values2)\n",
    "    a.append(values)\n",
    "pd.set_option('display.float_format', lambda x: '{:f}'.format(x))  # 将 '{:f}' 替换为您所需的格式\n",
    "births_sum = pd.Series(a, index=index) \n",
    "deaths_sum = pd.Series(b, index=index) \n",
    "bd_sum = pd.DataFrame({'Births_sum': births_sum, 'Deaths_sum': deaths_sum})\n",
    "display(bd_sum)"
   ]
  },
  {
   "cell_type": "code",
   "execution_count": null,
   "metadata": {},
   "outputs": [],
   "source": [
    "# 排序并输出死亡人数,出生人数的前十国家\n",
    "bd_sum.sort_values(by='Births_sum', ascending=False, inplace=True)\n",
    "b_country = bd_sum.head(10).index\n",
    "print(\"出生人数前十:\")\n",
    "display(b_country)\n",
    "bd_sum.sort_values(by='Deaths_sum', ascending=False, inplace=True)\n",
    "d_country = bd_sum.head(10).index\n",
    "print(\"死亡人数前十:\")\n",
    "display(d_country)"
   ]
  },
  {
   "cell_type": "code",
   "execution_count": null,
   "metadata": {},
   "outputs": [],
   "source": [
    "#时间序列分析\n",
    "# 分析全球每年出生人数和死亡人数的变化趋势\n",
    "\n",
    "world_bd = bd.loc['World', ['Births', 'Deaths','Population']]  # type: ignore  # 选取全球数据\n",
    "world_bd = data_fill(world_bd)  # 处理数据\n",
    "world_bd['births_rate'] = world_bd['Births'] / world_bd['Population']   # 计算的出生率\n",
    "world_bd['deaths_rate'] = world_bd['Deaths'] / world_bd['Population']   # 计算的死亡率\n",
    "display(world_bd.describe(include='all'))  # 探索数据\n",
    "display(world_bd.head())  # 显示前几行数据\n",
    "\n",
    "world_bd[['Births', 'Deaths']].plot(figsize=(12, 6))    # 绘制折线图\n",
    "plt.title('World Births and Deaths')  # 设置标题\n",
    "plt.show()  # 显示图表\n",
    "\n",
    "# 分析全球每年出生率和死亡率的变化趋势\n",
    "world_bd[['births_rate', 'deaths_rate']].plot(figsize=(12, 6))    # 绘制折线图\n",
    "plt.title('World Births and Deaths Rate')  # 设置标题\n",
    "plt.show()  # 显示图表\n",
    "\n"
   ]
  },
  {
   "cell_type": "code",
   "execution_count": null,
   "metadata": {},
   "outputs": [],
   "source": [
    "def data_select(Country_name):\n",
    "    bds = data_fill(bd.loc[Country_name, ['Births', 'Deaths','Population']])\n",
    "    bds['births_rate'] = bds['Births']/bds['Population']\n",
    "    bds['deaths_rate'] = bds['Deaths']/bds['Population']\n",
    "    display(Country_name)\n",
    "    display(bds.describe(include='all'))\n",
    "    bds[['Births', 'Deaths']].plot(figsize=(12, 6))# 绘制Births_Deaths折线图\n",
    "    plt.title('Births_Deaths')\n",
    "    plt.show()\n",
    "    bds[['births_rate', 'deaths_rate']].plot(figsize=(12, 6))# 绘制births_rate_deaths_rate折线图\n",
    "    plt.title('births_rate_deaths_rate')\n",
    "    plt.show()\n",
    "\n",
    "index = ['China', 'India', 'United States','United Kingdom']\n",
    "for i in index:\n",
    "    data_select(i)\n"
   ]
  },
  {
   "cell_type": "code",
   "execution_count": null,
   "metadata": {},
   "outputs": [],
   "source": []
  }
 ],
 "metadata": {
  "kernelspec": {
   "display_name": "conda1",
   "language": "python",
   "name": "python3"
  },
  "language_info": {
   "codemirror_mode": {
    "name": "ipython",
    "version": 3
   },
   "file_extension": ".py",
   "mimetype": "text/x-python",
   "name": "python",
   "nbconvert_exporter": "python",
   "pygments_lexer": "ipython3",
   "version": "3.11.9"
  }
 },
 "nbformat": 4,
 "nbformat_minor": 2
}
